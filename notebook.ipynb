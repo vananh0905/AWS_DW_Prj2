{
 "cells": [
  {
   "cell_type": "markdown",
   "metadata": {},
   "source": [
    "# Udacity Sparkify - Data Warehouse on AWS"
   ]
  },
  {
   "cell_type": "markdown",
   "metadata": {},
   "source": [
    "## Step 1: Import and check configuration"
   ]
  },
  {
   "cell_type": "markdown",
   "metadata": {},
   "source": [
    "### 1.1 Import packages"
   ]
  },
  {
   "cell_type": "code",
   "execution_count": 1,
   "metadata": {},
   "outputs": [],
   "source": [
    "import boto3\n",
    "import json\n",
    "import configparser\n",
    "import pandas as pd\n",
    "from pathlib import Path\n",
    "import time\n",
    "import psycopg2\n"
   ]
  },
  {
   "cell_type": "markdown",
   "metadata": {},
   "source": [
    "### 1.2. Load configuration parameters"
   ]
  },
  {
   "cell_type": "code",
   "execution_count": 52,
   "metadata": {},
   "outputs": [
    {
     "data": {
      "text/html": [
       "<div>\n",
       "<style scoped>\n",
       "    .dataframe tbody tr th:only-of-type {\n",
       "        vertical-align: middle;\n",
       "    }\n",
       "\n",
       "    .dataframe tbody tr th {\n",
       "        vertical-align: top;\n",
       "    }\n",
       "\n",
       "    .dataframe thead th {\n",
       "        text-align: right;\n",
       "    }\n",
       "</style>\n",
       "<table border=\"1\" class=\"dataframe\">\n",
       "  <thead>\n",
       "    <tr style=\"text-align: right;\">\n",
       "      <th></th>\n",
       "      <th>Param</th>\n",
       "      <th>Value</th>\n",
       "    </tr>\n",
       "  </thead>\n",
       "  <tbody>\n",
       "    <tr>\n",
       "      <th>0</th>\n",
       "      <td>DWH_CLUSTER_TYPE</td>\n",
       "      <td>multi-node</td>\n",
       "    </tr>\n",
       "    <tr>\n",
       "      <th>1</th>\n",
       "      <td>DWH_NUM_NODES</td>\n",
       "      <td>4</td>\n",
       "    </tr>\n",
       "    <tr>\n",
       "      <th>2</th>\n",
       "      <td>DWH_NODE_TYPE</td>\n",
       "      <td>dc2.large</td>\n",
       "    </tr>\n",
       "    <tr>\n",
       "      <th>3</th>\n",
       "      <td>DWH_CLUSTER_IDENTIFIER</td>\n",
       "      <td>dwhsparkify</td>\n",
       "    </tr>\n",
       "    <tr>\n",
       "      <th>4</th>\n",
       "      <td>DWH_DB</td>\n",
       "      <td>songdb</td>\n",
       "    </tr>\n",
       "    <tr>\n",
       "      <th>5</th>\n",
       "      <td>DWH_DB_USER</td>\n",
       "      <td>awsuser</td>\n",
       "    </tr>\n",
       "    <tr>\n",
       "      <th>6</th>\n",
       "      <td>DWH_DB_PASSWORD</td>\n",
       "      <td>Aws123456</td>\n",
       "    </tr>\n",
       "    <tr>\n",
       "      <th>7</th>\n",
       "      <td>DWH_PORT</td>\n",
       "      <td>5439</td>\n",
       "    </tr>\n",
       "    <tr>\n",
       "      <th>8</th>\n",
       "      <td>DWH_IAM_ROLE_NAME</td>\n",
       "      <td>anhdtvRole</td>\n",
       "    </tr>\n",
       "  </tbody>\n",
       "</table>\n",
       "</div>"
      ],
      "text/plain": [
       "                    Param        Value\n",
       "0        DWH_CLUSTER_TYPE   multi-node\n",
       "1           DWH_NUM_NODES            4\n",
       "2           DWH_NODE_TYPE    dc2.large\n",
       "3  DWH_CLUSTER_IDENTIFIER  dwhsparkify\n",
       "4                  DWH_DB       songdb\n",
       "5             DWH_DB_USER      awsuser\n",
       "6         DWH_DB_PASSWORD    Aws123456\n",
       "7                DWH_PORT         5439\n",
       "8       DWH_IAM_ROLE_NAME   anhdtvRole"
      ]
     },
     "execution_count": 52,
     "metadata": {},
     "output_type": "execute_result"
    }
   ],
   "source": [
    "import configparser\n",
    "config = configparser.ConfigParser()\n",
    "config.read_file(open('dwh.cfg'))\n",
    "\n",
    "KEY                    = config.get('AWS','KEY')\n",
    "SECRET                 = config.get('AWS','SECRET')\n",
    "\n",
    "DWH_CLUSTER_TYPE       = config.get(\"CLUSTER\",\"DWH_CLUSTER_TYPE\")\n",
    "DWH_NUM_NODES          = config.get(\"CLUSTER\",\"DWH_NUM_NODES\")\n",
    "DWH_NODE_TYPE          = config.get(\"CLUSTER\",\"DWH_NODE_TYPE\")\n",
    "\n",
    "DWH_CLUSTER_IDENTIFIER = config.get(\"CLUSTER\",\"DWH_CLUSTER_IDENTIFIER\")\n",
    "DWH_DB                 = config.get(\"CLUSTER\",\"DWH_DB\")\n",
    "DWH_DB_USER            = config.get(\"CLUSTER\",\"DWH_DB_USER\")\n",
    "DWH_DB_PASSWORD        = config.get(\"CLUSTER\",\"DWH_DB_PASSWORD\")\n",
    "DWH_PORT               = config.get(\"CLUSTER\",\"DWH_PORT\")\n",
    "\n",
    "DWH_IAM_ROLE_NAME      = config.get(\"IAM_ROLE\", \"IAM_ROLE_NAME\")\n",
    "\n",
    "(DWH_DB_USER, DWH_DB_PASSWORD, DWH_DB)\n",
    "\n",
    "pd.DataFrame({\"Param\":\n",
    "                  [\"DWH_CLUSTER_TYPE\", \"DWH_NUM_NODES\", \"DWH_NODE_TYPE\", \"DWH_CLUSTER_IDENTIFIER\", \"DWH_DB\", \"DWH_DB_USER\", \"DWH_DB_PASSWORD\", \"DWH_PORT\", \"DWH_IAM_ROLE_NAME\"],\n",
    "              \"Value\":\n",
    "                  [DWH_CLUSTER_TYPE, DWH_NUM_NODES, DWH_NODE_TYPE, DWH_CLUSTER_IDENTIFIER, DWH_DB, DWH_DB_USER, DWH_DB_PASSWORD, DWH_PORT, DWH_IAM_ROLE_NAME]\n",
    "             })"
   ]
  },
  {
   "cell_type": "markdown",
   "metadata": {},
   "source": [
    "## Step 2: Create clients for IAM, EC2, S3 and Redshift"
   ]
  },
  {
   "cell_type": "code",
   "execution_count": 53,
   "metadata": {},
   "outputs": [
    {
     "name": "stdout",
     "output_type": "stream",
     "text": [
      "EC2 has been created\n",
      "S3 has been created\n",
      "IAM has been created\n",
      "Redshift has been created\n"
     ]
    }
   ],
   "source": [
    "try:\n",
    "    ec2 = boto3.resource('ec2',\n",
    "                       region_name=\"us-west-2\",\n",
    "                       aws_access_key_id=KEY,\n",
    "                       aws_secret_access_key=SECRET\n",
    "                    )\n",
    "    print(\"EC2 has been created\")\n",
    "except Exception as e:\n",
    "    print(e)\n",
    "try:\n",
    "    s3 = boto3.resource('s3',\n",
    "                       region_name=\"us-west-2\",\n",
    "                       aws_access_key_id=KEY,\n",
    "                       aws_secret_access_key=SECRET\n",
    "                   )\n",
    "    print(\"S3 has been created\")\n",
    "except Exception as e:\n",
    "    print(e)    \n",
    "try:\n",
    "    iam = boto3.client('iam',aws_access_key_id=KEY,\n",
    "                     aws_secret_access_key=SECRET,\n",
    "                     region_name=\"us-west-2\"\n",
    "                  )\n",
    "    print(\"IAM has been created\")\n",
    "except Exception as e:\n",
    "    print(e)    \n",
    "    \n",
    "    \n",
    "try:\n",
    "    redshift = boto3.client('redshift',\n",
    "                       region_name=\"us-west-2\",\n",
    "                       aws_access_key_id=KEY,\n",
    "                       aws_secret_access_key=SECRET\n",
    "                       )\n",
    "    print(\"Redshift has been created\")\n",
    "except Exception as e:\n",
    "    print(e)    "
   ]
  },
  {
   "cell_type": "markdown",
   "metadata": {},
   "source": [
    "### Create An IAM Role"
   ]
  },
  {
   "cell_type": "code",
   "execution_count": 54,
   "metadata": {},
   "outputs": [
    {
     "name": "stdout",
     "output_type": "stream",
     "text": [
      "role anhdtvRole has been created\n",
      "role anhdtvRole has been attached policy\n"
     ]
    }
   ],
   "source": [
    "try:\n",
    "    dwhRole = iam.create_role(\n",
    "        Path='/',\n",
    "        RoleName=DWH_IAM_ROLE_NAME,\n",
    "        Description = \"Allows Redshift clusters to call AWS services on your behalf.\",\n",
    "        AssumeRolePolicyDocument=json.dumps(\n",
    "            {'Statement': [{\n",
    "                'Action': 'sts:AssumeRole',\n",
    "                'Effect': 'Allow',\n",
    "                'Principal': {'Service': 'redshift.amazonaws.com'}}],\n",
    "             'Version': '2012-10-17'})\n",
    "    )    \n",
    "    print((\"role {} has been created\").format(DWH_IAM_ROLE_NAME))\n",
    "except Exception as e:\n",
    "    print(e)\n",
    "\n",
    "iam.attach_role_policy(RoleName=DWH_IAM_ROLE_NAME,\n",
    "                   PolicyArn=\"arn:aws:iam::aws:policy/AmazonS3FullAccess\"\n",
    "                  )['ResponseMetadata']['HTTPStatusCode']\n",
    "    \n",
    "print((\"role {} has been attached policy\").format(DWH_IAM_ROLE_NAME))"
   ]
  },
  {
   "cell_type": "code",
   "execution_count": 55,
   "metadata": {},
   "outputs": [
    {
     "name": "stdout",
     "output_type": "stream",
     "text": [
      "roleArn is arn:aws:iam::004668495805:role/anhdtvRole\n"
     ]
    }
   ],
   "source": [
    "# Get ARN\n",
    "DWH_ROLE_ARN = iam.get_role(RoleName=DWH_IAM_ROLE_NAME)['Role']['Arn']\n",
    "print ('roleArn is ' + DWH_ROLE_ARN)"
   ]
  },
  {
   "cell_type": "markdown",
   "metadata": {},
   "source": [
    "### Create Redshift Cluster"
   ]
  },
  {
   "cell_type": "code",
   "execution_count": 61,
   "metadata": {},
   "outputs": [
    {
     "name": "stdout",
     "output_type": "stream",
     "text": [
      "Cluster dwhsparkify has been created\n"
     ]
    }
   ],
   "source": [
    "try:\n",
    "    response = redshift.create_cluster(        \n",
    "        #HW\n",
    "        ClusterType=DWH_CLUSTER_TYPE,\n",
    "        NodeType=DWH_NODE_TYPE,\n",
    "        NumberOfNodes=int(DWH_NUM_NODES),\n",
    "\n",
    "        #Identifiers & Credentials\n",
    "        DBName=DWH_DB,\n",
    "        ClusterIdentifier=DWH_CLUSTER_IDENTIFIER,\n",
    "        MasterUsername=DWH_DB_USER,\n",
    "        MasterUserPassword=DWH_DB_PASSWORD,\n",
    "        \n",
    "        #Roles (for s3 access)\n",
    "        IamRoles=[DWH_ROLE_ARN]  \n",
    "    )\n",
    "    print((\"Cluster {} has been created\").format(DWH_CLUSTER_IDENTIFIER))\n",
    "except Exception as e:\n",
    "    print(e)\n",
    "   "
   ]
  },
  {
   "cell_type": "code",
   "execution_count": 66,
   "metadata": {},
   "outputs": [
    {
     "data": {
      "text/html": [
       "<div>\n",
       "<style scoped>\n",
       "    .dataframe tbody tr th:only-of-type {\n",
       "        vertical-align: middle;\n",
       "    }\n",
       "\n",
       "    .dataframe tbody tr th {\n",
       "        vertical-align: top;\n",
       "    }\n",
       "\n",
       "    .dataframe thead th {\n",
       "        text-align: right;\n",
       "    }\n",
       "</style>\n",
       "<table border=\"1\" class=\"dataframe\">\n",
       "  <thead>\n",
       "    <tr style=\"text-align: right;\">\n",
       "      <th></th>\n",
       "      <th>Key</th>\n",
       "      <th>Value</th>\n",
       "    </tr>\n",
       "  </thead>\n",
       "  <tbody>\n",
       "    <tr>\n",
       "      <th>0</th>\n",
       "      <td>ClusterIdentifier</td>\n",
       "      <td>dwhsparkify</td>\n",
       "    </tr>\n",
       "    <tr>\n",
       "      <th>1</th>\n",
       "      <td>NodeType</td>\n",
       "      <td>dc2.large</td>\n",
       "    </tr>\n",
       "    <tr>\n",
       "      <th>2</th>\n",
       "      <td>ClusterStatus</td>\n",
       "      <td>available</td>\n",
       "    </tr>\n",
       "    <tr>\n",
       "      <th>3</th>\n",
       "      <td>MasterUsername</td>\n",
       "      <td>awsuser</td>\n",
       "    </tr>\n",
       "    <tr>\n",
       "      <th>4</th>\n",
       "      <td>DBName</td>\n",
       "      <td>songdb</td>\n",
       "    </tr>\n",
       "    <tr>\n",
       "      <th>5</th>\n",
       "      <td>Endpoint</td>\n",
       "      <td>{'Address': 'dwhsparkify.cccscnsbg5ik.us-west-...</td>\n",
       "    </tr>\n",
       "    <tr>\n",
       "      <th>6</th>\n",
       "      <td>VpcId</td>\n",
       "      <td>vpc-0f260bb33946d0513</td>\n",
       "    </tr>\n",
       "    <tr>\n",
       "      <th>7</th>\n",
       "      <td>NumberOfNodes</td>\n",
       "      <td>4</td>\n",
       "    </tr>\n",
       "  </tbody>\n",
       "</table>\n",
       "</div>"
      ],
      "text/plain": [
       "                 Key                                              Value\n",
       "0  ClusterIdentifier                                        dwhsparkify\n",
       "1           NodeType                                          dc2.large\n",
       "2      ClusterStatus                                          available\n",
       "3     MasterUsername                                            awsuser\n",
       "4             DBName                                             songdb\n",
       "5           Endpoint  {'Address': 'dwhsparkify.cccscnsbg5ik.us-west-...\n",
       "6              VpcId                              vpc-0f260bb33946d0513\n",
       "7      NumberOfNodes                                                  4"
      ]
     },
     "execution_count": 66,
     "metadata": {},
     "output_type": "execute_result"
    }
   ],
   "source": [
    "# Check Status\n",
    "def prettyRedshiftProps(props):\n",
    "    keysToShow = [\"ClusterIdentifier\",\n",
    "                  \"NodeType\", \n",
    "                  \"ClusterStatus\",\n",
    "                  \"MasterUsername\", \n",
    "                  \"DBName\",\n",
    "                  \"Endpoint\", \n",
    "                  \"NumberOfNodes\", \n",
    "                  'VpcId']\n",
    "    x = [(k, v) for k,v in props.items() if k in keysToShow]\n",
    "    return pd.DataFrame(data=x, columns=[\"Key\", \"Value\"])\n",
    "\n",
    "Cluster = redshift.describe_clusters(ClusterIdentifier=DWH_CLUSTER_IDENTIFIER)['Clusters'][0]\n",
    "prettyRedshiftProps(Cluster)"
   ]
  },
  {
   "cell_type": "markdown",
   "metadata": {},
   "source": [
    "## Step 3: Check configuration"
   ]
  },
  {
   "cell_type": "code",
   "execution_count": 67,
   "metadata": {},
   "outputs": [
    {
     "name": "stdout",
     "output_type": "stream",
     "text": [
      "Endpoint is dwhsparkify.cccscnsbg5ik.us-west-2.redshift.amazonaws.com\n"
     ]
    }
   ],
   "source": [
    "DWH_CLUSTER_STATUS = Cluster['ClusterStatus']\n",
    "numOfTries = 0\n",
    "while (DWH_CLUSTER_STATUS != 'available'):\n",
    "    numOfTries = numOfTries + 1\n",
    "    print ('{} tries to get Endpoint'.format(numOfTries))\n",
    "    time.sleep(15)\n",
    "    myClusterProps = redshift.describe_clusters(ClusterIdentifier=DWH_CLUSTER_IDENTIFIER)['Clusters'][0]\n",
    "    DWH_CLUSTER_STATUS = Cluster['ClusterStatus']\n",
    "\n",
    "DWH_ENDPOINT = Cluster['Endpoint']['Address']\n",
    "DWH_ROLE_ARN = Cluster['IamRoles'][0]['IamRoleArn']\n",
    "myClusterProps = redshift.describe_clusters(ClusterIdentifier=DWH_CLUSTER_IDENTIFIER)['Clusters'][0]\n",
    "print('Endpoint is {}'.format(DWH_ENDPOINT))"
   ]
  },
  {
   "cell_type": "code",
   "execution_count": 68,
   "metadata": {},
   "outputs": [
    {
     "name": "stdout",
     "output_type": "stream",
     "text": [
      "ec2.SecurityGroup(id='sg-0dc25ca764eee4684')\n",
      "An error occurred (InvalidPermission.Duplicate) when calling the AuthorizeSecurityGroupIngress operation: the specified rule \"peer: 0.0.0.0/0, TCP, from port: 5439, to port: 5439, ALLOW\" already exists\n"
     ]
    },
    {
     "data": {
      "text/plain": [
       "'sg-0dc25ca764eee4684'"
      ]
     },
     "execution_count": 68,
     "metadata": {},
     "output_type": "execute_result"
    }
   ],
   "source": [
    "def open_tcp_port(ec2, cluster, DWH_PORT):\n",
    "    try:\n",
    "        vpc = ec2.Vpc(id = cluster['VpcId'])\n",
    "        defaultSg = list(vpc.security_groups.all())[0]\n",
    "        print(defaultSg)\n",
    "        defaultSg.authorize_ingress(\n",
    "            GroupName=defaultSg.group_name,\n",
    "            CidrIp='0.0.0.0/0',\n",
    "            IpProtocol='TCP',\n",
    "            FromPort=int(DWH_PORT),\n",
    "            ToPort=int(DWH_PORT)\n",
    "        )\n",
    "    except Exception as e:\n",
    "        print(e)\n",
    "    return defaultSg.id\n",
    "\n",
    "IAM_SECURITY_GROUP = open_tcp_port(ec2, myClusterProps, DWH_PORT)\n",
    "IAM_SECURITY_GROUP"
   ]
  },
  {
   "cell_type": "code",
   "execution_count": 69,
   "metadata": {},
   "outputs": [
    {
     "name": "stdout",
     "output_type": "stream",
     "text": [
      "1\n"
     ]
    }
   ],
   "source": [
    "conn_string=\"postgresql://{}:{}@{}:{}/{}\".format(DWH_DB_USER, DWH_DB_PASSWORD, DWH_ENDPOINT, DWH_PORT, DWH_DB)\n",
    "connect = psycopg2.connect(conn_string)\n",
    "print(connect.status)\n",
    "# %sql $conn_string\n",
    "connect.close()"
   ]
  },
  {
   "cell_type": "code",
   "execution_count": 70,
   "metadata": {},
   "outputs": [
    {
     "data": {
      "text/html": [
       "<div>\n",
       "<style scoped>\n",
       "    .dataframe tbody tr th:only-of-type {\n",
       "        vertical-align: middle;\n",
       "    }\n",
       "\n",
       "    .dataframe tbody tr th {\n",
       "        vertical-align: top;\n",
       "    }\n",
       "\n",
       "    .dataframe thead th {\n",
       "        text-align: right;\n",
       "    }\n",
       "</style>\n",
       "<table border=\"1\" class=\"dataframe\">\n",
       "  <thead>\n",
       "    <tr style=\"text-align: right;\">\n",
       "      <th></th>\n",
       "      <th>Param</th>\n",
       "      <th>Value</th>\n",
       "    </tr>\n",
       "  </thead>\n",
       "  <tbody>\n",
       "    <tr>\n",
       "      <th>0</th>\n",
       "      <td>DWH_REGION</td>\n",
       "      <td>us-west-2</td>\n",
       "    </tr>\n",
       "    <tr>\n",
       "      <th>1</th>\n",
       "      <td>DWH_CLUSTER_TYPE</td>\n",
       "      <td>multi-node</td>\n",
       "    </tr>\n",
       "    <tr>\n",
       "      <th>2</th>\n",
       "      <td>DWH_NUM_NODES</td>\n",
       "      <td>4</td>\n",
       "    </tr>\n",
       "    <tr>\n",
       "      <th>3</th>\n",
       "      <td>DWH_NODE_TYPE</td>\n",
       "      <td>dc2.large</td>\n",
       "    </tr>\n",
       "    <tr>\n",
       "      <th>4</th>\n",
       "      <td>DWH_CLUSTER_IDENTIFIER</td>\n",
       "      <td>dwhsparkify</td>\n",
       "    </tr>\n",
       "    <tr>\n",
       "      <th>5</th>\n",
       "      <td>DWH_HOST</td>\n",
       "      <td>dwhsparkify.cccscnsbg5ik.us-west-2.redshift.am...</td>\n",
       "    </tr>\n",
       "    <tr>\n",
       "      <th>6</th>\n",
       "      <td>DWH_DB</td>\n",
       "      <td>songdb</td>\n",
       "    </tr>\n",
       "    <tr>\n",
       "      <th>7</th>\n",
       "      <td>DWH_DB_USER</td>\n",
       "      <td>awsuser</td>\n",
       "    </tr>\n",
       "    <tr>\n",
       "      <th>8</th>\n",
       "      <td>DWH_DB_PASSWORD</td>\n",
       "      <td>Aws123456</td>\n",
       "    </tr>\n",
       "    <tr>\n",
       "      <th>9</th>\n",
       "      <td>DWH_PORT</td>\n",
       "      <td>5439</td>\n",
       "    </tr>\n",
       "    <tr>\n",
       "      <th>10</th>\n",
       "      <td>IAM_ROLE_NAME</td>\n",
       "      <td>anhdtvRole</td>\n",
       "    </tr>\n",
       "    <tr>\n",
       "      <th>11</th>\n",
       "      <td>IAM_ROLE_ARN</td>\n",
       "      <td>arn:aws:iam::004668495805:role/anhdtvRole</td>\n",
       "    </tr>\n",
       "    <tr>\n",
       "      <th>12</th>\n",
       "      <td>IAM_SECURITY_GROUP</td>\n",
       "      <td>sg-09f0ceaea3883d038</td>\n",
       "    </tr>\n",
       "  </tbody>\n",
       "</table>\n",
       "</div>"
      ],
      "text/plain": [
       "                     Param                                              Value\n",
       "0               DWH_REGION                                          us-west-2\n",
       "1         DWH_CLUSTER_TYPE                                         multi-node\n",
       "2            DWH_NUM_NODES                                                  4\n",
       "3            DWH_NODE_TYPE                                          dc2.large\n",
       "4   DWH_CLUSTER_IDENTIFIER                                        dwhsparkify\n",
       "5                 DWH_HOST  dwhsparkify.cccscnsbg5ik.us-west-2.redshift.am...\n",
       "6                   DWH_DB                                             songdb\n",
       "7              DWH_DB_USER                                            awsuser\n",
       "8          DWH_DB_PASSWORD                                          Aws123456\n",
       "9                 DWH_PORT                                               5439\n",
       "10           IAM_ROLE_NAME                                         anhdtvRole\n",
       "11            IAM_ROLE_ARN          arn:aws:iam::004668495805:role/anhdtvRole\n",
       "12      IAM_SECURITY_GROUP                               sg-09f0ceaea3883d038"
      ]
     },
     "execution_count": 70,
     "metadata": {},
     "output_type": "execute_result"
    }
   ],
   "source": [
    "config = configparser.ConfigParser()\n",
    "config.read_file(open('dwh.cfg'))\n",
    "\n",
    "AWS_ACCESS_KEY          = config.get('AWS','KEY')\n",
    "AWS_SECRET_ACCESS_KEY   = config.get('AWS','SECRET')\n",
    "\n",
    "DWH_REGION              = config.get(\"CLUSTER\",\"DWH_REGION\")\n",
    "DWH_CLUSTER_TYPE        = config.get(\"CLUSTER\",\"DWH_CLUSTER_TYPE\")\n",
    "DWH_NUM_NODES           = config.get(\"CLUSTER\",\"DWH_NUM_NODES\")\n",
    "DWH_NODE_TYPE           = config.get(\"CLUSTER\",\"DWH_NODE_TYPE\")\n",
    "DWH_HOST                = config.get(\"CLUSTER\",\"DWH_HOST\")\n",
    "\n",
    "DWH_CLUSTER_IDENTIFIER  = config.get(\"CLUSTER\",\"DWH_CLUSTER_IDENTIFIER\")\n",
    "DWH_DB                  = config.get(\"CLUSTER\",\"DWH_DB\")\n",
    "DWH_DB_USER             = config.get(\"CLUSTER\",\"DWH_DB_USER\")\n",
    "DWH_DB_PASSWORD         = config.get(\"CLUSTER\",\"DWH_DB_PASSWORD\")\n",
    "DWH_PORT                = config.get(\"CLUSTER\",\"DWH_PORT\")\n",
    "\n",
    "IAM_ROLE_NAME           = config.get(\"IAM_ROLE\", \"IAM_ROLE_NAME\")\n",
    "IAM_ROLE_ARN            = config.get(\"IAM_ROLE\", \"IAM_ROLE_ARN\")\n",
    "IAM_SECURITY_GROUP      = config.get(\"IAM_ROLE\", \"IAM_SECURITY_GROUP\")\n",
    "\n",
    "pd.DataFrame({\"Param\":\n",
    "                  [\"DWH_REGION\",\n",
    "                   \"DWH_CLUSTER_TYPE\", \n",
    "                   \"DWH_NUM_NODES\", \n",
    "                   \"DWH_NODE_TYPE\", \n",
    "                   \"DWH_CLUSTER_IDENTIFIER\", \n",
    "                   \"DWH_HOST\", \n",
    "                   \"DWH_DB\", \n",
    "                   \"DWH_DB_USER\", \n",
    "                   \"DWH_DB_PASSWORD\", \n",
    "                   \"DWH_PORT\", \n",
    "                   \"IAM_ROLE_NAME\",\n",
    "                   \"IAM_ROLE_ARN\",\n",
    "                   \"IAM_SECURITY_GROUP\"],\n",
    "              \"Value\":\n",
    "                  [DWH_REGION, \n",
    "                   DWH_CLUSTER_TYPE, \n",
    "                   DWH_NUM_NODES, \n",
    "                   DWH_NODE_TYPE, \n",
    "                   DWH_CLUSTER_IDENTIFIER, \n",
    "                   DWH_HOST, \n",
    "                   DWH_DB, \n",
    "                   DWH_DB_USER, \n",
    "                   DWH_DB_PASSWORD, \n",
    "                   DWH_PORT, \n",
    "                   IAM_ROLE_NAME,\n",
    "                   IAM_ROLE_ARN,\n",
    "                   IAM_SECURITY_GROUP]\n",
    "             })"
   ]
  },
  {
   "cell_type": "markdown",
   "metadata": {},
   "source": [
    "## Step 4: Create Tables"
   ]
  },
  {
   "cell_type": "code",
   "execution_count": 79,
   "metadata": {},
   "outputs": [],
   "source": [
    "!python create_tables.py"
   ]
  },
  {
   "cell_type": "markdown",
   "metadata": {},
   "source": [
    "## Step 5: Run ETL"
   ]
  },
  {
   "cell_type": "code",
   "execution_count": 80,
   "metadata": {},
   "outputs": [
    {
     "name": "stdout",
     "output_type": "stream",
     "text": [
      "\n",
      "    copy staging_events from 's3://udacity-dend/log_data'\n",
      "    credentials 'aws_iam_role=arn:aws:iam::004668495805:role/anhdtvRole'\n",
      "    json 's3://udacity-dend/log_json_path.json'\n",
      "    region 'us-west-2';\n",
      "\n",
      "\n",
      "    copy staging_songs from 's3://udacity-dend/song_data'\n",
      "    credentials 'aws_iam_role=arn:aws:iam::004668495805:role/anhdtvRole'\n",
      "    json 'auto'\n",
      "    region 'us-west-2';\n",
      "\n"
     ]
    }
   ],
   "source": [
    "!python etl.py"
   ]
  },
  {
   "cell_type": "markdown",
   "metadata": {},
   "source": [
    "## Step 6: Some queries to analyst data"
   ]
  },
  {
   "cell_type": "markdown",
   "metadata": {},
   "source": [
    "### 6.1. Import package for testing"
   ]
  },
  {
   "cell_type": "code",
   "execution_count": 81,
   "metadata": {},
   "outputs": [],
   "source": [
    "import matplotlib.pyplot as plt\n",
    "import numpy as np\n",
    "import psycopg2"
   ]
  },
  {
   "cell_type": "code",
   "execution_count": 82,
   "metadata": {},
   "outputs": [
    {
     "name": "stdout",
     "output_type": "stream",
     "text": [
      "The sql extension is already loaded. To reload it, use:\n",
      "  %reload_ext sql\n"
     ]
    }
   ],
   "source": [
    "%load_ext sql"
   ]
  },
  {
   "cell_type": "code",
   "execution_count": 112,
   "metadata": {},
   "outputs": [],
   "source": [
    "conn = psycopg2.connect(\"host={} dbname={} user={} password={} port={}\".format(\n",
    "    DWH_HOST,\n",
    "    DWH_DB,\n",
    "    DWH_DB_USER,\n",
    "    DWH_DB_PASSWORD,\n",
    "    DWH_PORT\n",
    "))\n",
    "\n",
    "cur = conn.cursor()\n"
   ]
  },
  {
   "cell_type": "markdown",
   "metadata": {},
   "source": [
    "### 6.2. Top 10 most active users"
   ]
  },
  {
   "cell_type": "code",
   "execution_count": 113,
   "metadata": {},
   "outputs": [
    {
     "data": {
      "text/html": [
       "<div>\n",
       "<style scoped>\n",
       "    .dataframe tbody tr th:only-of-type {\n",
       "        vertical-align: middle;\n",
       "    }\n",
       "\n",
       "    .dataframe tbody tr th {\n",
       "        vertical-align: top;\n",
       "    }\n",
       "\n",
       "    .dataframe thead th {\n",
       "        text-align: right;\n",
       "    }\n",
       "</style>\n",
       "<table border=\"1\" class=\"dataframe\">\n",
       "  <thead>\n",
       "    <tr style=\"text-align: right;\">\n",
       "      <th></th>\n",
       "      <th>user_id</th>\n",
       "      <th>first_name</th>\n",
       "      <th>last_name</th>\n",
       "      <th>total_songplay</th>\n",
       "    </tr>\n",
       "  </thead>\n",
       "  <tbody>\n",
       "    <tr>\n",
       "      <th>0</th>\n",
       "      <td>49</td>\n",
       "      <td>Chloe</td>\n",
       "      <td>Cuevas</td>\n",
       "      <td>689</td>\n",
       "    </tr>\n",
       "    <tr>\n",
       "      <th>1</th>\n",
       "      <td>80</td>\n",
       "      <td>Tegan</td>\n",
       "      <td>Levine</td>\n",
       "      <td>665</td>\n",
       "    </tr>\n",
       "    <tr>\n",
       "      <th>2</th>\n",
       "      <td>97</td>\n",
       "      <td>Kate</td>\n",
       "      <td>Harrell</td>\n",
       "      <td>557</td>\n",
       "    </tr>\n",
       "    <tr>\n",
       "      <th>3</th>\n",
       "      <td>15</td>\n",
       "      <td>Lily</td>\n",
       "      <td>Koch</td>\n",
       "      <td>463</td>\n",
       "    </tr>\n",
       "    <tr>\n",
       "      <th>4</th>\n",
       "      <td>44</td>\n",
       "      <td>Aleena</td>\n",
       "      <td>Kirby</td>\n",
       "      <td>397</td>\n",
       "    </tr>\n",
       "    <tr>\n",
       "      <th>5</th>\n",
       "      <td>29</td>\n",
       "      <td>Jacqueline</td>\n",
       "      <td>Lynch</td>\n",
       "      <td>346</td>\n",
       "    </tr>\n",
       "    <tr>\n",
       "      <th>6</th>\n",
       "      <td>24</td>\n",
       "      <td>Layla</td>\n",
       "      <td>Griffin</td>\n",
       "      <td>321</td>\n",
       "    </tr>\n",
       "    <tr>\n",
       "      <th>7</th>\n",
       "      <td>73</td>\n",
       "      <td>Jacob</td>\n",
       "      <td>Klein</td>\n",
       "      <td>289</td>\n",
       "    </tr>\n",
       "    <tr>\n",
       "      <th>8</th>\n",
       "      <td>88</td>\n",
       "      <td>Mohammad</td>\n",
       "      <td>Rodriguez</td>\n",
       "      <td>270</td>\n",
       "    </tr>\n",
       "    <tr>\n",
       "      <th>9</th>\n",
       "      <td>36</td>\n",
       "      <td>Matthew</td>\n",
       "      <td>Jones</td>\n",
       "      <td>248</td>\n",
       "    </tr>\n",
       "  </tbody>\n",
       "</table>\n",
       "</div>"
      ],
      "text/plain": [
       "  user_id  first_name  last_name  total_songplay\n",
       "0      49       Chloe     Cuevas             689\n",
       "1      80       Tegan     Levine             665\n",
       "2      97        Kate    Harrell             557\n",
       "3      15        Lily       Koch             463\n",
       "4      44      Aleena      Kirby             397\n",
       "5      29  Jacqueline      Lynch             346\n",
       "6      24       Layla    Griffin             321\n",
       "7      73       Jacob      Klein             289\n",
       "8      88    Mohammad  Rodriguez             270\n",
       "9      36     Matthew      Jones             248"
      ]
     },
     "execution_count": 113,
     "metadata": {},
     "output_type": "execute_result"
    }
   ],
   "source": [
    "query = \"\"\"\n",
    "    SELECT u.user_id, u.first_name, u.last_name, COUNT(sp.songplay_id) total_songplay\n",
    "    FROM users u\n",
    "    JOIN songplays sp ON u.user_id = sp.user_id\n",
    "    GROUP BY u.user_id, u.first_name, u.last_name\n",
    "    ORDER BY total_songplay DESC, user_id\n",
    "    LIMIT 10\n",
    "\"\"\"\n",
    "cur.execute(query)\n",
    "pd.DataFrame(cur.fetchall(), columns=(\"user_id\", \"first_name\", \"last_name\", \"total_songplay\"))"
   ]
  },
  {
   "cell_type": "markdown",
   "metadata": {},
   "source": [
    "### 6.3. Top artist with the most played song"
   ]
  },
  {
   "cell_type": "code",
   "execution_count": 96,
   "metadata": {},
   "outputs": [
    {
     "data": {
      "text/html": [
       "<div>\n",
       "<style scoped>\n",
       "    .dataframe tbody tr th:only-of-type {\n",
       "        vertical-align: middle;\n",
       "    }\n",
       "\n",
       "    .dataframe tbody tr th {\n",
       "        vertical-align: top;\n",
       "    }\n",
       "\n",
       "    .dataframe thead th {\n",
       "        text-align: right;\n",
       "    }\n",
       "</style>\n",
       "<table border=\"1\" class=\"dataframe\">\n",
       "  <thead>\n",
       "    <tr style=\"text-align: right;\">\n",
       "      <th></th>\n",
       "      <th>artist_id</th>\n",
       "      <th>artist_name</th>\n",
       "      <th>total_songplay</th>\n",
       "    </tr>\n",
       "  </thead>\n",
       "  <tbody>\n",
       "    <tr>\n",
       "      <th>0</th>\n",
       "      <td>AR5E44Z1187B9A1D74</td>\n",
       "      <td>Dwight Yoakam</td>\n",
       "      <td>37</td>\n",
       "    </tr>\n",
       "    <tr>\n",
       "      <th>1</th>\n",
       "      <td>ARD46C811C8A414F3F</td>\n",
       "      <td>Kid Cudi</td>\n",
       "      <td>10</td>\n",
       "    </tr>\n",
       "    <tr>\n",
       "      <th>2</th>\n",
       "      <td>ARD46C811C8A414F3F</td>\n",
       "      <td>Kid Cudi / Kanye West / Common</td>\n",
       "      <td>10</td>\n",
       "    </tr>\n",
       "    <tr>\n",
       "      <th>3</th>\n",
       "      <td>AR37SX11187FB3E164</td>\n",
       "      <td>Ron Carter</td>\n",
       "      <td>9</td>\n",
       "    </tr>\n",
       "    <tr>\n",
       "      <th>4</th>\n",
       "      <td>AR5EYTL1187B98EDA0</td>\n",
       "      <td>Lonnie Gordon</td>\n",
       "      <td>9</td>\n",
       "    </tr>\n",
       "    <tr>\n",
       "      <th>5</th>\n",
       "      <td>ARKQQZA12086C116FC</td>\n",
       "      <td>B.o.B</td>\n",
       "      <td>8</td>\n",
       "    </tr>\n",
       "    <tr>\n",
       "      <th>6</th>\n",
       "      <td>ARPDVPJ1187B9ADBE9</td>\n",
       "      <td>Usher featuring Jermaine Dupri</td>\n",
       "      <td>6</td>\n",
       "    </tr>\n",
       "    <tr>\n",
       "      <th>7</th>\n",
       "      <td>ARR3ONV1187B9A2F59</td>\n",
       "      <td>Muse</td>\n",
       "      <td>6</td>\n",
       "    </tr>\n",
       "    <tr>\n",
       "      <th>8</th>\n",
       "      <td>ARPDVPJ1187B9ADBE9</td>\n",
       "      <td>Usher</td>\n",
       "      <td>6</td>\n",
       "    </tr>\n",
       "    <tr>\n",
       "      <th>9</th>\n",
       "      <td>ARM0P6Z1187FB4D466</td>\n",
       "      <td>Arctic Monkeys</td>\n",
       "      <td>5</td>\n",
       "    </tr>\n",
       "  </tbody>\n",
       "</table>\n",
       "</div>"
      ],
      "text/plain": [
       "            artist_id                     artist_name  total_songplay\n",
       "0  AR5E44Z1187B9A1D74                   Dwight Yoakam              37\n",
       "1  ARD46C811C8A414F3F                        Kid Cudi              10\n",
       "2  ARD46C811C8A414F3F  Kid Cudi / Kanye West / Common              10\n",
       "3  AR37SX11187FB3E164                      Ron Carter               9\n",
       "4  AR5EYTL1187B98EDA0                   Lonnie Gordon               9\n",
       "5  ARKQQZA12086C116FC                           B.o.B               8\n",
       "6  ARPDVPJ1187B9ADBE9  Usher featuring Jermaine Dupri               6\n",
       "7  ARR3ONV1187B9A2F59                            Muse               6\n",
       "8  ARPDVPJ1187B9ADBE9                           Usher               6\n",
       "9  ARM0P6Z1187FB4D466                  Arctic Monkeys               5"
      ]
     },
     "execution_count": 96,
     "metadata": {},
     "output_type": "execute_result"
    }
   ],
   "source": [
    "query = \"\"\"\n",
    "    SELECT a.artist_id, a.name artist_name, COUNT(sp.songplay_id) total_songplays\n",
    "    FROM songplays sp\n",
    "    JOIN artists a ON sp.artist_id = a.artist_id\n",
    "    GROUP BY a.artist_id, a.name\n",
    "    ORDER BY total_songplays DESC\n",
    "    LIMIT 10;\n",
    "\"\"\"\n",
    "cur.execute(query)\n",
    "pd.DataFrame(cur.fetchall(), columns=(\"artist_id\", \"artist_name\", \"total_songplay\"))"
   ]
  },
  {
   "cell_type": "markdown",
   "metadata": {},
   "source": [
    "### 6.4. Top song with the highest number of played song"
   ]
  },
  {
   "cell_type": "code",
   "execution_count": 103,
   "metadata": {},
   "outputs": [
    {
     "data": {
      "text/html": [
       "<div>\n",
       "<style scoped>\n",
       "    .dataframe tbody tr th:only-of-type {\n",
       "        vertical-align: middle;\n",
       "    }\n",
       "\n",
       "    .dataframe tbody tr th {\n",
       "        vertical-align: top;\n",
       "    }\n",
       "\n",
       "    .dataframe thead th {\n",
       "        text-align: right;\n",
       "    }\n",
       "</style>\n",
       "<table border=\"1\" class=\"dataframe\">\n",
       "  <thead>\n",
       "    <tr style=\"text-align: right;\">\n",
       "      <th></th>\n",
       "      <th>song_id</th>\n",
       "      <th>title</th>\n",
       "      <th>artist_name</th>\n",
       "      <th>total_songplays</th>\n",
       "    </tr>\n",
       "  </thead>\n",
       "  <tbody>\n",
       "    <tr>\n",
       "      <th>0</th>\n",
       "      <td>SOBONKR12A58A7A7E0</td>\n",
       "      <td>You're The One</td>\n",
       "      <td>Dwight Yoakam</td>\n",
       "      <td>37</td>\n",
       "    </tr>\n",
       "    <tr>\n",
       "      <th>1</th>\n",
       "      <td>SOHTKMO12AB01843B0</td>\n",
       "      <td>Catch You Baby (Steve Pitron &amp; Max Sanna Radio...</td>\n",
       "      <td>Lonnie Gordon</td>\n",
       "      <td>9</td>\n",
       "    </tr>\n",
       "    <tr>\n",
       "      <th>2</th>\n",
       "      <td>SOUNZHU12A8AE47481</td>\n",
       "      <td>I CAN'T GET STARTED</td>\n",
       "      <td>Ron Carter</td>\n",
       "      <td>9</td>\n",
       "    </tr>\n",
       "    <tr>\n",
       "      <th>3</th>\n",
       "      <td>SOULTKQ12AB018A183</td>\n",
       "      <td>Nothin' On You [feat. Bruno Mars] (Album Version)</td>\n",
       "      <td>B.o.B</td>\n",
       "      <td>8</td>\n",
       "    </tr>\n",
       "    <tr>\n",
       "      <th>4</th>\n",
       "      <td>SOLZOBD12AB0185720</td>\n",
       "      <td>Hey Daddy (Daddy's Home)</td>\n",
       "      <td>Usher</td>\n",
       "      <td>6</td>\n",
       "    </tr>\n",
       "    <tr>\n",
       "      <th>5</th>\n",
       "      <td>SOLZOBD12AB0185720</td>\n",
       "      <td>Hey Daddy (Daddy's Home)</td>\n",
       "      <td>Usher featuring Jermaine Dupri</td>\n",
       "      <td>6</td>\n",
       "    </tr>\n",
       "    <tr>\n",
       "      <th>6</th>\n",
       "      <td>SOARUPP12AB01842E0</td>\n",
       "      <td>Up Up &amp; Away</td>\n",
       "      <td>Kid Cudi / Kanye West / Common</td>\n",
       "      <td>5</td>\n",
       "    </tr>\n",
       "    <tr>\n",
       "      <th>7</th>\n",
       "      <td>SOTNHIP12AB0183131</td>\n",
       "      <td>Make Her Say</td>\n",
       "      <td>Kid Cudi</td>\n",
       "      <td>5</td>\n",
       "    </tr>\n",
       "    <tr>\n",
       "      <th>8</th>\n",
       "      <td>SOARUPP12AB01842E0</td>\n",
       "      <td>Up Up &amp; Away</td>\n",
       "      <td>Kid Cudi</td>\n",
       "      <td>5</td>\n",
       "    </tr>\n",
       "    <tr>\n",
       "      <th>9</th>\n",
       "      <td>SOTNHIP12AB0183131</td>\n",
       "      <td>Make Her Say</td>\n",
       "      <td>Kid Cudi / Kanye West / Common</td>\n",
       "      <td>5</td>\n",
       "    </tr>\n",
       "  </tbody>\n",
       "</table>\n",
       "</div>"
      ],
      "text/plain": [
       "              song_id                                              title  \\\n",
       "0  SOBONKR12A58A7A7E0                                     You're The One   \n",
       "1  SOHTKMO12AB01843B0  Catch You Baby (Steve Pitron & Max Sanna Radio...   \n",
       "2  SOUNZHU12A8AE47481                                I CAN'T GET STARTED   \n",
       "3  SOULTKQ12AB018A183  Nothin' On You [feat. Bruno Mars] (Album Version)   \n",
       "4  SOLZOBD12AB0185720                           Hey Daddy (Daddy's Home)   \n",
       "5  SOLZOBD12AB0185720                           Hey Daddy (Daddy's Home)   \n",
       "6  SOARUPP12AB01842E0                                       Up Up & Away   \n",
       "7  SOTNHIP12AB0183131                                       Make Her Say   \n",
       "8  SOARUPP12AB01842E0                                       Up Up & Away   \n",
       "9  SOTNHIP12AB0183131                                       Make Her Say   \n",
       "\n",
       "                      artist_name  total_songplays  \n",
       "0                   Dwight Yoakam               37  \n",
       "1                   Lonnie Gordon                9  \n",
       "2                      Ron Carter                9  \n",
       "3                           B.o.B                8  \n",
       "4                           Usher                6  \n",
       "5  Usher featuring Jermaine Dupri                6  \n",
       "6  Kid Cudi / Kanye West / Common                5  \n",
       "7                        Kid Cudi                5  \n",
       "8                        Kid Cudi                5  \n",
       "9  Kid Cudi / Kanye West / Common                5  "
      ]
     },
     "execution_count": 103,
     "metadata": {},
     "output_type": "execute_result"
    }
   ],
   "source": [
    "query = \"\"\"\n",
    "    SELECT s.song_id, s.title, a.name artist_name, COUNT(sp.songplay_id) total_songplay\n",
    "    FROM songplays sp\n",
    "    JOIN songs s  ON sp.song_id = s.song_id\n",
    "    JOIN artists a ON sp.artist_id = a.artist_id\n",
    "    GROUP BY s.song_id, s.title, a.name\n",
    "    ORDER BY total_songplay DESC\n",
    "    LIMIT 10;\n",
    "\"\"\"\n",
    "cur.execute(query)\n",
    "pd.DataFrame(cur.fetchall(), columns=(\"song_id\", \"title\", \"artist_name\", \"total_songplays\"))"
   ]
  },
  {
   "cell_type": "code",
   "execution_count": 117,
   "metadata": {},
   "outputs": [],
   "source": [
    "conn.close()"
   ]
  },
  {
   "cell_type": "markdown",
   "metadata": {},
   "source": [
    "## Step 7: Delete resources"
   ]
  },
  {
   "cell_type": "code",
   "execution_count": null,
   "metadata": {},
   "outputs": [],
   "source": [
    "redshift.delete_cluster( ClusterIdentifier=DWH_CLUSTER_IDENTIFIER,  SkipFinalClusterSnapshot=True)"
   ]
  },
  {
   "cell_type": "code",
   "execution_count": null,
   "metadata": {},
   "outputs": [],
   "source": [
    "iam.detach_role_policy(RoleName=DWH_IAM_ROLE_NAME, PolicyArn=\"arn:aws:iam::aws:policy/AmazonS3FullAccess\")\n",
    "iam.delete_role(RoleName=DWH_IAM_ROLE_NAME)"
   ]
  },
  {
   "cell_type": "code",
   "execution_count": null,
   "metadata": {},
   "outputs": [],
   "source": []
  }
 ],
 "metadata": {
  "kernelspec": {
   "display_name": "Python 3",
   "language": "python",
   "name": "python3"
  },
  "language_info": {
   "codemirror_mode": {
    "name": "ipython",
    "version": 3
   },
   "file_extension": ".py",
   "mimetype": "text/x-python",
   "name": "python",
   "nbconvert_exporter": "python",
   "pygments_lexer": "ipython3",
   "version": "3.8.18"
  }
 },
 "nbformat": 4,
 "nbformat_minor": 2
}
